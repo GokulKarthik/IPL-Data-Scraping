{
 "cells": [
  {
   "cell_type": "code",
   "execution_count": 1,
   "metadata": {},
   "outputs": [],
   "source": [
    "import os\n",
    "import json\n",
    "import pandas as pd\n",
    "from tqdm.notebook import tqdm"
   ]
  },
  {
   "cell_type": "code",
   "execution_count": 2,
   "metadata": {},
   "outputs": [],
   "source": [
    "def clean_name(name):\n",
    "    name = name.replace('(c)', '')\n",
    "    name = name.replace('†', '')\n",
    "    name = name.strip()\n",
    "    return name\n",
    "\n",
    "def find_wicket_c(wicket):\n",
    "    wicket = wicket.replace('†', '')\n",
    "    wicket = wicket.strip()\n",
    "    if wicket.startswith('c & b '):\n",
    "        wicket_c = wicket[len('c & b '):]\n",
    "    elif wicket.startswith('c '):\n",
    "        wicket_c = wicket[len('c '):wicket.find(' b ')]\n",
    "    else:\n",
    "        wicket_c = 'NA'\n",
    "    return wicket_c\n",
    "\n",
    "def find_wicket_b(wicket):\n",
    "    wicket = wicket.replace('†', '')\n",
    "    wicket = wicket.strip()\n",
    "    if wicket.startswith('c & b '):\n",
    "        wicket_b = wicket[len('c & b '):]\n",
    "    elif wicket.startswith('b '):\n",
    "        wicket_b = wicket[len('b '):]\n",
    "    elif wicket.startswith('lbw b '):\n",
    "        wicket_b = wicket[len('lbw b '):]\n",
    "    elif wicket.startswith('c '):\n",
    "        wicket_b = wicket[wicket.find(' b ')+3:]\n",
    "    else:\n",
    "        wicket_b = 'NA'\n",
    "    return wicket_b\n",
    "\n",
    "def match_player_caught(row, players_1, players_2):\n",
    "    if row['inning'] == 1:\n",
    "        players = players_2\n",
    "    else:\n",
    "        players = players_1\n",
    "    for player in players:\n",
    "        if row['wicket_b'] in player:\n",
    "            return player\n",
    "    else:\n",
    "        if row['wicket_b'] == 'NA':\n",
    "            return 'NA'\n",
    "        else:\n",
    "            return 'Not Matched'\n",
    "        \n",
    "def match_player_bowled(row, players_1, players_2):\n",
    "    if row['inning'] == 1:\n",
    "        players = players_2\n",
    "    else:\n",
    "        players = players_1\n",
    "    for player in players:\n",
    "        if row['wicket_c'] in player:\n",
    "            return player\n",
    "    else:\n",
    "        if row['wicket_c'] == 'NA':\n",
    "            return 'NA'\n",
    "        else:\n",
    "            return 'Not Matched'"
   ]
  },
  {
   "cell_type": "code",
   "execution_count": 3,
   "metadata": {},
   "outputs": [],
   "source": [
    "def create_player_df(match_dir):\n",
    "    \n",
    "    batsman_df = pd.read_csv(os.path.join(match_dir, 'batsman_df.csv'))\n",
    "    bowler_df = pd.read_csv(os.path.join(match_dir, 'bowler_df.csv'))\n",
    "    bowler_df = bowler_df.rename(columns={\n",
    "        'runs': 'runs_given',\n",
    "        'fours': 'fours_given',\n",
    "        'sixes': 'sixes_given'\n",
    "    })\n",
    "    if 'inning' in bowler_df.columns:\n",
    "        bowler_df = bowler_df.drop(columns=['inning'])\n",
    "    with open(os.path.join(match_dir, 'meta_data.json'), 'r') as file:\n",
    "        meta_data = json.load(file)\n",
    "        \n",
    "    player_df = batsman_df[batsman_df['name'] != 'Extras'].copy()\n",
    "    player_df['is_captain'] = player_df['name'].str.contains('(c)', regex=False, case=True)\n",
    "    player_df['is_wicket_keeper'] = player_df['name'].str.contains('†', regex=False, case=True)\n",
    "    player_df['name'] = player_df['name'].apply(clean_name)\n",
    "    player_df['wicket_c'] = player_df['wicket'].apply(find_wicket_c)\n",
    "    player_df['wicket_b'] = player_df['wicket'].apply(find_wicket_b)\n",
    "    \n",
    "    players_1 = player_df[player_df['inning']==1]['name']\n",
    "    players_2 = player_df[player_df['inning']==2]['name']\n",
    "    player_df['player_caught'] = player_df.apply(match_player_caught, axis=1, \n",
    "                                                 players_1=players_1, players_2=players_2)\n",
    "    player_df['player_bowled'] = player_df.apply(match_player_bowled, axis=1, \n",
    "                                                 players_1=players_1, players_2=players_2)\n",
    "    \n",
    "    player_df['caught_count'] = player_df['name'].map(player_df['player_caught'].value_counts())\n",
    "    player_df['caught_count'] = player_df['caught_count'].fillna(0).astype('int')\n",
    "    player_df['bowled_count'] = player_df['name'].map(player_df['player_bowled'].value_counts())\n",
    "    player_df['bowled_count'] = player_df['bowled_count'].fillna(0).astype('int')\n",
    "        \n",
    "    player_df = pd.merge(player_df, bowler_df, on='name', how='outer').fillna('NA')\n",
    "    \n",
    "    return player_df"
   ]
  },
  {
   "cell_type": "code",
   "execution_count": 5,
   "metadata": {},
   "outputs": [
    {
     "data": {
      "application/vnd.jupyter.widget-view+json": {
       "model_id": "19aa07e637064cbba5c42d2f1c21c3b5",
       "version_major": 2,
       "version_minor": 0
      },
      "text/plain": [
       "HBox(children=(FloatProgress(value=0.0, description='seasons', max=11.0, style=ProgressStyle(description_width…"
      ]
     },
     "metadata": {},
     "output_type": "display_data"
    },
    {
     "data": {
      "application/vnd.jupyter.widget-view+json": {
       "model_id": "",
       "version_major": 2,
       "version_minor": 0
      },
      "text/plain": [
       "HBox(children=(FloatProgress(value=0.0, description='matches', max=60.0, style=ProgressStyle(description_width…"
      ]
     },
     "metadata": {},
     "output_type": "display_data"
    },
    {
     "data": {
      "application/vnd.jupyter.widget-view+json": {
       "model_id": "",
       "version_major": 2,
       "version_minor": 0
      },
      "text/plain": [
       "HBox(children=(FloatProgress(value=0.0, description='matches', max=74.0, style=ProgressStyle(description_width…"
      ]
     },
     "metadata": {},
     "output_type": "display_data"
    },
    {
     "name": "stdout",
     "output_type": "stream",
     "text": [
      "Data/2011/20th match (N)\n"
     ]
    },
    {
     "data": {
      "application/vnd.jupyter.widget-view+json": {
       "model_id": "",
       "version_major": 2,
       "version_minor": 0
      },
      "text/plain": [
       "HBox(children=(FloatProgress(value=0.0, description='matches', max=76.0, style=ProgressStyle(description_width…"
      ]
     },
     "metadata": {},
     "output_type": "display_data"
    },
    {
     "name": "stdout",
     "output_type": "stream",
     "text": [
      "Data/2012/32nd match (N)\n",
      "Data/2012/34th match (N)\n"
     ]
    },
    {
     "data": {
      "application/vnd.jupyter.widget-view+json": {
       "model_id": "",
       "version_major": 2,
       "version_minor": 0
      },
      "text/plain": [
       "HBox(children=(FloatProgress(value=0.0, description='matches', max=76.0, style=ProgressStyle(description_width…"
      ]
     },
     "metadata": {},
     "output_type": "display_data"
    },
    {
     "data": {
      "application/vnd.jupyter.widget-view+json": {
       "model_id": "",
       "version_major": 2,
       "version_minor": 0
      },
      "text/plain": [
       "HBox(children=(FloatProgress(value=0.0, description='matches', max=60.0, style=ProgressStyle(description_width…"
      ]
     },
     "metadata": {},
     "output_type": "display_data"
    },
    {
     "data": {
      "application/vnd.jupyter.widget-view+json": {
       "model_id": "",
       "version_major": 2,
       "version_minor": 0
      },
      "text/plain": [
       "HBox(children=(FloatProgress(value=0.0, description='matches', max=60.0, style=ProgressStyle(description_width…"
      ]
     },
     "metadata": {},
     "output_type": "display_data"
    },
    {
     "name": "stdout",
     "output_type": "stream",
     "text": [
      "Data/2015/25th match (D and N)\n"
     ]
    },
    {
     "data": {
      "application/vnd.jupyter.widget-view+json": {
       "model_id": "",
       "version_major": 2,
       "version_minor": 0
      },
      "text/plain": [
       "HBox(children=(FloatProgress(value=0.0, description='matches', max=60.0, style=ProgressStyle(description_width…"
      ]
     },
     "metadata": {},
     "output_type": "display_data"
    },
    {
     "data": {
      "application/vnd.jupyter.widget-view+json": {
       "model_id": "",
       "version_major": 2,
       "version_minor": 0
      },
      "text/plain": [
       "HBox(children=(FloatProgress(value=0.0, description='matches', max=60.0, style=ProgressStyle(description_width…"
      ]
     },
     "metadata": {},
     "output_type": "display_data"
    },
    {
     "name": "stdout",
     "output_type": "stream",
     "text": [
      "Data/2017/29th match (N)\n"
     ]
    },
    {
     "data": {
      "application/vnd.jupyter.widget-view+json": {
       "model_id": "",
       "version_major": 2,
       "version_minor": 0
      },
      "text/plain": [
       "HBox(children=(FloatProgress(value=0.0, description='matches', max=60.0, style=ProgressStyle(description_width…"
      ]
     },
     "metadata": {},
     "output_type": "display_data"
    },
    {
     "data": {
      "application/vnd.jupyter.widget-view+json": {
       "model_id": "",
       "version_major": 2,
       "version_minor": 0
      },
      "text/plain": [
       "HBox(children=(FloatProgress(value=0.0, description='matches', max=60.0, style=ProgressStyle(description_width…"
      ]
     },
     "metadata": {},
     "output_type": "display_data"
    },
    {
     "data": {
      "application/vnd.jupyter.widget-view+json": {
       "model_id": "",
       "version_major": 2,
       "version_minor": 0
      },
      "text/plain": [
       "HBox(children=(FloatProgress(value=0.0, description='matches', max=6.0, style=ProgressStyle(description_width=…"
      ]
     },
     "metadata": {},
     "output_type": "display_data"
    },
    {
     "name": "stdout",
     "output_type": "stream",
     "text": [
      "\n"
     ]
    }
   ],
   "source": [
    "data_dir = 'Data'\n",
    "seasons = range(2010, 2021)\n",
    "\n",
    "for season in tqdm(seasons, desc='seasons'):\n",
    "    season_dir = os.path.join(data_dir, str(season))\n",
    "    matches = os.listdir(season_dir)\n",
    "    for match in tqdm(matches, desc='matches', leave=False):\n",
    "        match_dir = os.path.join(season_dir, match)\n",
    "        try:\n",
    "            player_df = create_player_df(match_dir)\n",
    "            player_df.to_csv(os.path.join(match_dir, 'player_df.csv'), index=False)\n",
    "        except: # abandoned matches\n",
    "            print(match_dir)"
   ]
  },
  {
   "cell_type": "code",
   "execution_count": null,
   "metadata": {},
   "outputs": [],
   "source": []
  }
 ],
 "metadata": {
  "kernelspec": {
   "display_name": "Python 3",
   "language": "python",
   "name": "python3"
  },
  "language_info": {
   "codemirror_mode": {
    "name": "ipython",
    "version": 3
   },
   "file_extension": ".py",
   "mimetype": "text/x-python",
   "name": "python",
   "nbconvert_exporter": "python",
   "pygments_lexer": "ipython3",
   "version": "3.8.2"
  }
 },
 "nbformat": 4,
 "nbformat_minor": 4
}
