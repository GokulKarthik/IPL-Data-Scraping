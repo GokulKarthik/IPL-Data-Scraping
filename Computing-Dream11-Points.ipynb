{
 "cells": [
  {
   "cell_type": "code",
   "execution_count": 1,
   "metadata": {},
   "outputs": [],
   "source": [
    "import os\n",
    "import json\n",
    "import numpy as np\n",
    "import pandas as pd\n",
    "from tqdm.notebook import tqdm"
   ]
  },
  {
   "cell_type": "code",
   "execution_count": 2,
   "metadata": {},
   "outputs": [],
   "source": [
    "def clean_name(name):\n",
    "    name = name.replace('(c)', '')\n",
    "    name = name.replace('†', '')\n",
    "    name = name.strip()\n",
    "    return name\n",
    "\n",
    "def find_wicket_c(wicket):\n",
    "    wicket = wicket.replace('†', '')\n",
    "    wicket = wicket.strip()\n",
    "    if wicket.startswith('c & b '):\n",
    "        wicket_c = wicket[len('c & b '):]\n",
    "    elif wicket.startswith('c '):\n",
    "        wicket_c = wicket[len('c '):wicket.find(' b ')]\n",
    "    else:\n",
    "        wicket_c = 'NA'\n",
    "    return wicket_c\n",
    "\n",
    "def find_wicket_b(wicket):\n",
    "    wicket = wicket.replace('†', '')\n",
    "    wicket = wicket.strip()\n",
    "    if wicket.startswith('c & b '):\n",
    "        wicket_b = wicket[len('c & b '):]\n",
    "    elif wicket.startswith('b '):\n",
    "        wicket_b = wicket[len('b '):]\n",
    "    elif wicket.startswith('lbw b '):\n",
    "        wicket_b = wicket[len('lbw b '):]\n",
    "    elif wicket.startswith('c '):\n",
    "        wicket_b = wicket[wicket.find(' b ')+3:]\n",
    "    elif wicket.startswith('st '):\n",
    "        wicket_b = wicket[wicket.find(' b ')+3:]\n",
    "    else:\n",
    "        wicket_b = 'NA'\n",
    "    return wicket_b\n",
    "\n",
    "def find_wicket_st(wicket):\n",
    "    wicket = wicket.replace('†', '')\n",
    "    wicket = wicket.strip()\n",
    "    if wicket.startswith('st '):\n",
    "        wicket_st = wicket[len('st '):wicket.find(' b ')]\n",
    "    else:\n",
    "        wicket_st = 'NA'\n",
    "    return wicket_st\n",
    "\n",
    "def find_wicket_ro(wicket):\n",
    "    wicket = wicket.replace('†', '')\n",
    "    wicket = wicket.strip()\n",
    "    if wicket.startswith('run out ('):\n",
    "        if \"/\" in wicket:\n",
    "            wicket_ro_t, wicket_ro_c = wicket[len('run out ('):-1].split('/')[:2]\n",
    "        else:\n",
    "            wicket_ro_t, wicket_ro_c = wicket[len('run out ('):-1], wicket[len('run out ('):-1]\n",
    "    else:\n",
    "        wicket_ro_t, wicket_ro_c = 'NA', 'NA'\n",
    "    return wicket_ro_t, wicket_ro_c\n",
    "\n",
    "def match_player_caught(row, players_1, players_2):\n",
    "    if row['wicket_c'] == 'NA':\n",
    "        return 'NA'\n",
    "    if row['inning'] == 1:\n",
    "        players = players_2\n",
    "    else:\n",
    "        players = players_1\n",
    "    for player in players:\n",
    "        if row['wicket_c'] in player:\n",
    "            return player\n",
    "    else:\n",
    "        return 'Not Matched'\n",
    "        \n",
    "def match_player_bowled(row, players_1, players_2):\n",
    "    if row['wicket_b'] == 'NA':\n",
    "        return 'NA'\n",
    "    if row['inning'] == 1:\n",
    "        players = players_2\n",
    "    else:\n",
    "        players = players_1\n",
    "    for player in players:\n",
    "        if row['wicket_b'] in player:\n",
    "            return player\n",
    "    else:\n",
    "        return 'Not Matched'\n",
    "        \n",
    "def match_player_stumped(row, players_1, players_2):\n",
    "    if row['wicket_st'] == 'NA':\n",
    "        return 'NA'\n",
    "    if row['inning'] == 1:\n",
    "        players = players_2\n",
    "    else:\n",
    "        players = players_1\n",
    "    for player in players:\n",
    "        if row['wicket_st'] in player:\n",
    "            return player\n",
    "    else:\n",
    "        return 'Not Matched'\n",
    "        \n",
    "def match_player_ro_throwed(row, players_1, players_2):\n",
    "    if row['wicket_ro_t'] == 'NA':\n",
    "        return 'NA'\n",
    "    if row['inning'] == 1:\n",
    "        players = players_2\n",
    "    else:\n",
    "        players = players_1\n",
    "    for player in players:\n",
    "        if row['wicket_ro_t'] in player:\n",
    "            return player\n",
    "    else:\n",
    "        return 'Not Matched'\n",
    "        \n",
    "def match_player_ro_caught(row, players_1, players_2):\n",
    "    if row['wicket_ro_c'] == 'NA':\n",
    "        return 'NA'\n",
    "    if row['inning'] == 1:\n",
    "        players = players_2\n",
    "    else:\n",
    "        players = players_1\n",
    "    for player in players:\n",
    "        if row['wicket_ro_c'] in player:\n",
    "            return player\n",
    "    else:\n",
    "        return 'Not Matched'"
   ]
  },
  {
   "cell_type": "code",
   "execution_count": 3,
   "metadata": {},
   "outputs": [],
   "source": [
    "def create_player_df(match_dir):\n",
    "    \n",
    "    batsman_df = pd.read_csv(os.path.join(match_dir, 'batsman_df.csv'))\n",
    "    if len(batsman_df) == 0:\n",
    "        return pd.DataFrame(columns=['NA'])\n",
    "    bowler_df = pd.read_csv(os.path.join(match_dir, 'bowler_df.csv'))\n",
    "    bowler_df = bowler_df.rename(columns={\n",
    "        'runs': 'runs_given',\n",
    "        'fours': 'fours_given',\n",
    "        'sixes': 'sixes_given'\n",
    "    })\n",
    "    if 'inning' in bowler_df.columns:\n",
    "        bowler_df = bowler_df.drop(columns=['inning'])\n",
    "    with open(os.path.join(match_dir, 'meta_data.json'), 'r') as file:\n",
    "        meta_data = json.load(file)\n",
    "    team_map = {1:meta_data['team_1'], 2:meta_data['team_2']}\n",
    "        \n",
    "    player_df = batsman_df[batsman_df['name'] != 'Extras'].copy()\n",
    "    player_df['is_captain'] = player_df['name'].str.contains('(c)', regex=False, case=True)\n",
    "    player_df['is_wicket_keeper'] = player_df['name'].str.contains('†', regex=False, case=True)\n",
    "    player_df['name'] = player_df['name'].apply(clean_name)\n",
    "    player_df['team'] = player_df['inning'].map(team_map)\n",
    "    player_df['wicket_c'] = player_df['wicket'].apply(find_wicket_c)\n",
    "    #player_df['wicket_b'] = player_df['wicket'].apply(find_wicket_b)\n",
    "    player_df['wicket_st'] = player_df['wicket'].apply(find_wicket_st)\n",
    "    player_df['wicket_ro_t'], player_df['wicket_ro_c']  = zip(*player_df['wicket'].apply(find_wicket_ro))\n",
    "    \n",
    "    players_1 = player_df[player_df['inning']==1]['name']\n",
    "    players_2 = player_df[player_df['inning']==2]['name']\n",
    "    player_df['player_caught'] = player_df.apply(match_player_caught, axis=1, \n",
    "                                                 players_1=players_1, players_2=players_2)\n",
    "    #player_df['player_bowled'] = player_df.apply(match_player_bowled, axis=1, \n",
    "    #                                             players_1=players_1, players_2=players_2)\n",
    "    player_df['player_stumped'] = player_df.apply(match_player_stumped, axis=1, \n",
    "                                                 players_1=players_1, players_2=players_2)\n",
    "    player_df['player_ro_throwed'] = player_df.apply(match_player_ro_throwed, axis=1, \n",
    "                                                 players_1=players_1, players_2=players_2)\n",
    "    player_df['player_ro_caught'] = player_df.apply(match_player_ro_caught, axis=1, \n",
    "                                                 players_1=players_1, players_2=players_2)\n",
    "    \n",
    "    player_df['caught_count'] = player_df['name'].map(player_df['player_caught'].value_counts())\n",
    "    player_df['caught_count'] = player_df['caught_count'].fillna(0).astype('int')\n",
    "    #player_df['bowled_count'] = player_df['name'].map(player_df['player_bowled'].value_counts())\n",
    "    #player_df['bowled_count'] = player_df['bowled_count'].fillna(0).astype('int')\n",
    "    player_df['stumped_count'] = player_df['name'].map(player_df['player_stumped'].value_counts())\n",
    "    player_df['stumped_count'] = player_df['stumped_count'].fillna(0).astype('int')\n",
    "    player_df['ro_throwed_count'] = player_df['name'].map(player_df['player_ro_throwed'].value_counts())\n",
    "    player_df['ro_throwed_count'] = player_df['ro_throwed_count'].fillna(0).astype('int')\n",
    "    player_df['ro_caught_count'] = player_df['name'].map(player_df['player_ro_caught'].value_counts())\n",
    "    player_df['ro_caught_count'] = player_df['ro_caught_count'].fillna(0).astype('int')\n",
    "        \n",
    "    player_df = pd.merge(player_df, bowler_df, on='name', how='outer').fillna('NA')\n",
    "    \n",
    "    return player_df"
   ]
  },
  {
   "cell_type": "code",
   "execution_count": 4,
   "metadata": {},
   "outputs": [],
   "source": [
    "def create_dream11_df(match_dir):\n",
    "    \n",
    "    player_df = pd.read_csv(os.path.join(match_dir, 'player_df.csv'))\n",
    "    if len(player_df) == 0:\n",
    "        return pd.DataFrame(columns=['NA'])\n",
    "    player_df['strike_rate'] = player_df['strike_rate'].replace('-', -1).astype('float')\n",
    "    player_df['runs'] = player_df['runs'].replace('-', 0).astype('float')\n",
    "    player_df['wicket'] = player_df['wicket'].replace('absent hurt', 'Did not bat')\n",
    "    player_df['economy'] = pd.to_numeric(player_df['economy'].replace('-', np.nan))\n",
    "    dream11_df = player_df[['name', 'team']].copy()\n",
    "    \n",
    "    dream11_df['starting_11_actual'] = 'Yes'\n",
    "    dream11_df['starting_11_points'] = 4\n",
    "    \n",
    "    dream11_df['runs_actual'] = player_df['runs']\n",
    "    dream11_df['runs_points'] = dream11_df['runs_actual']\n",
    "    \n",
    "    dream11_df['fours_actual'] = player_df['fours']\n",
    "    dream11_df['fours_points'] = dream11_df['fours_actual']\n",
    "    \n",
    "    dream11_df['sixes_actual'] = player_df['sixes']\n",
    "    dream11_df['sixes_points'] = dream11_df['sixes_actual'] * 2\n",
    "    \n",
    "    atleast_10_balls = player_df['balls'] >= 10\n",
    "    strike_rate_points = pd.to_numeric(pd.cut(player_df['strike_rate'],\n",
    "                                bins=[0, 50, 60, 70], \n",
    "                                right=False, \n",
    "                                labels=[-6, -4, -2])).fillna(0)\n",
    "    dream11_df['atleast_10_balls'] = atleast_10_balls\n",
    "    dream11_df['strike_rate_actual'] = player_df['strike_rate']\n",
    "    dream11_df['strike_rate_points'] = dream11_df['atleast_10_balls'] * strike_rate_points \n",
    "    \n",
    "    points_50 = (player_df['runs'] >= 50) * 8\n",
    "    points_100 = (player_df['runs'] >= 100) * 8\n",
    "    dream11_df['50_100_points'] = points_50 + points_100\n",
    "    \n",
    "    dream11_df['duck_actual'] = (player_df['runs'] == 0) & (player_df['wicket'] != 'Did not bat')\n",
    "    dream11_df['duck_points'] = dream11_df['duck_actual'] * -2\n",
    "    \n",
    "    dream11_df['wickets_actual'] = player_df['wickets'].replace('NA', 0).fillna(0)\n",
    "    dream11_df['wickets_points'] = dream11_df['wickets_actual'] * 25\n",
    "    \n",
    "    dream11_df['maidens_actual'] = player_df['maidens'].replace('NA', 0).fillna(0)\n",
    "    dream11_df['maidens_points'] = dream11_df['maidens_actual'] * 8\n",
    "    \n",
    "    atleast_2_overs = player_df['overs'] >= 2\n",
    "    economy_rate_points = pd.to_numeric(pd.cut(player_df['economy'],\n",
    "                                bins=[0, 4, 5, 6.01, 9, 10.01, 11.01, 36], \n",
    "                                right=False, \n",
    "                                labels=[6, 4, 2, 0, -2, -4, -6])).fillna(0)\n",
    "    dream11_df['atleast_2_overs'] = atleast_2_overs\n",
    "    dream11_df['economy_rate_actual'] = player_df['economy']\n",
    "    dream11_df['economy_rate_points'] = dream11_df['atleast_2_overs'] * economy_rate_points \n",
    "    \n",
    "    wickets_4 = (player_df['wickets'] >= 4) * 8\n",
    "    wickets_4 = (player_df['wickets'] >= 5) * 8\n",
    "    dream11_df['bonus_points'] = wickets_4 + wickets_4\n",
    "    \n",
    "    dream11_df['catches_actual'] = player_df['caught_count'] \n",
    "    dream11_df['catches_points'] = dream11_df['catches_actual'] * 8\n",
    "    \n",
    "    dream11_df['run_out_actual'] = player_df['ro_throwed_count'] + player_df['ro_caught_count']\n",
    "    dream11_df['run_out_points'] = dream11_df['run_out_actual'] * 6\n",
    "    \n",
    "    dream11_df['stumping_actual'] = player_df['stumped_count']\n",
    "    dream11_df['stumping_points'] = dream11_df['stumping_actual'] * 12\n",
    "    \n",
    "    points_cols = [col for col in dream11_df.columns if col.endswith('_points')]\n",
    "    dream11_df['total_points'] = dream11_df[points_cols].sum(axis=1)\n",
    "    \n",
    "    dream11_df = dream11_df.sort_values(by='total_points', ascending=False).reset_index(drop=True)\n",
    "    dream11_df['rank'] = dream11_df.index + 1\n",
    "    \n",
    "    cols = list(dream11_df.columns)\n",
    "    cols.remove('total_points')\n",
    "    cols = ['total_points'] + cols\n",
    "    dream11_df = dream11_df[cols]\n",
    "    \n",
    "    return dream11_df"
   ]
  },
  {
   "cell_type": "code",
   "execution_count": 5,
   "metadata": {},
   "outputs": [
    {
     "data": {
      "application/vnd.jupyter.widget-view+json": {
       "model_id": "f630d44ae6ed4f56b00a57484e3d687f",
       "version_major": 2,
       "version_minor": 0
      },
      "text/plain": [
       "HBox(children=(FloatProgress(value=0.0, description='seasons', max=11.0, style=ProgressStyle(description_width…"
      ]
     },
     "metadata": {},
     "output_type": "display_data"
    },
    {
     "data": {
      "application/vnd.jupyter.widget-view+json": {
       "model_id": "",
       "version_major": 2,
       "version_minor": 0
      },
      "text/plain": [
       "HBox(children=(FloatProgress(value=0.0, description='matches', max=60.0, style=ProgressStyle(description_width…"
      ]
     },
     "metadata": {},
     "output_type": "display_data"
    },
    {
     "data": {
      "application/vnd.jupyter.widget-view+json": {
       "model_id": "",
       "version_major": 2,
       "version_minor": 0
      },
      "text/plain": [
       "HBox(children=(FloatProgress(value=0.0, description='matches', max=74.0, style=ProgressStyle(description_width…"
      ]
     },
     "metadata": {},
     "output_type": "display_data"
    },
    {
     "data": {
      "application/vnd.jupyter.widget-view+json": {
       "model_id": "",
       "version_major": 2,
       "version_minor": 0
      },
      "text/plain": [
       "HBox(children=(FloatProgress(value=0.0, description='matches', max=76.0, style=ProgressStyle(description_width…"
      ]
     },
     "metadata": {},
     "output_type": "display_data"
    },
    {
     "data": {
      "application/vnd.jupyter.widget-view+json": {
       "model_id": "",
       "version_major": 2,
       "version_minor": 0
      },
      "text/plain": [
       "HBox(children=(FloatProgress(value=0.0, description='matches', max=76.0, style=ProgressStyle(description_width…"
      ]
     },
     "metadata": {},
     "output_type": "display_data"
    },
    {
     "data": {
      "application/vnd.jupyter.widget-view+json": {
       "model_id": "",
       "version_major": 2,
       "version_minor": 0
      },
      "text/plain": [
       "HBox(children=(FloatProgress(value=0.0, description='matches', max=60.0, style=ProgressStyle(description_width…"
      ]
     },
     "metadata": {},
     "output_type": "display_data"
    },
    {
     "data": {
      "application/vnd.jupyter.widget-view+json": {
       "model_id": "",
       "version_major": 2,
       "version_minor": 0
      },
      "text/plain": [
       "HBox(children=(FloatProgress(value=0.0, description='matches', max=60.0, style=ProgressStyle(description_width…"
      ]
     },
     "metadata": {},
     "output_type": "display_data"
    },
    {
     "data": {
      "application/vnd.jupyter.widget-view+json": {
       "model_id": "",
       "version_major": 2,
       "version_minor": 0
      },
      "text/plain": [
       "HBox(children=(FloatProgress(value=0.0, description='matches', max=60.0, style=ProgressStyle(description_width…"
      ]
     },
     "metadata": {},
     "output_type": "display_data"
    },
    {
     "data": {
      "application/vnd.jupyter.widget-view+json": {
       "model_id": "",
       "version_major": 2,
       "version_minor": 0
      },
      "text/plain": [
       "HBox(children=(FloatProgress(value=0.0, description='matches', max=60.0, style=ProgressStyle(description_width…"
      ]
     },
     "metadata": {},
     "output_type": "display_data"
    },
    {
     "data": {
      "application/vnd.jupyter.widget-view+json": {
       "model_id": "",
       "version_major": 2,
       "version_minor": 0
      },
      "text/plain": [
       "HBox(children=(FloatProgress(value=0.0, description='matches', max=60.0, style=ProgressStyle(description_width…"
      ]
     },
     "metadata": {},
     "output_type": "display_data"
    },
    {
     "data": {
      "application/vnd.jupyter.widget-view+json": {
       "model_id": "",
       "version_major": 2,
       "version_minor": 0
      },
      "text/plain": [
       "HBox(children=(FloatProgress(value=0.0, description='matches', max=60.0, style=ProgressStyle(description_width…"
      ]
     },
     "metadata": {},
     "output_type": "display_data"
    },
    {
     "data": {
      "application/vnd.jupyter.widget-view+json": {
       "model_id": "",
       "version_major": 2,
       "version_minor": 0
      },
      "text/plain": [
       "HBox(children=(FloatProgress(value=0.0, description='matches', max=7.0, style=ProgressStyle(description_width=…"
      ]
     },
     "metadata": {},
     "output_type": "display_data"
    },
    {
     "name": "stdout",
     "output_type": "stream",
     "text": [
      "\n"
     ]
    }
   ],
   "source": [
    "data_dir = 'Data'\n",
    "seasons = range(2010, 2021)\n",
    "\n",
    "for season in tqdm(seasons, desc='seasons'):\n",
    "    season_dir = os.path.join(data_dir, str(season))\n",
    "    matches = sorted(os.listdir(season_dir))\n",
    "    for match in tqdm(matches, desc='matches', leave=False):\n",
    "        match_dir = os.path.join(season_dir, match)\n",
    "        try:\n",
    "            player_df = create_player_df(match_dir)\n",
    "        except Exception as e:      \n",
    "            print(0, match_dir)\n",
    "            print(e)\n",
    "            raise\n",
    "        player_df.to_csv(os.path.join(match_dir, 'player_df.csv'), index=False)\n",
    "        \n",
    "        try:\n",
    "            dream11_df = create_dream11_df(match_dir)\n",
    "        except Exception as e:         \n",
    "            print(1, match_dir)\n",
    "            print(e)\n",
    "            raise\n",
    "        dream11_df.to_csv(os.path.join(match_dir, 'dream11_df.csv'), index=False)"
   ]
  },
  {
   "cell_type": "markdown",
   "metadata": {},
   "source": [
    "### Merging all dream11 tables"
   ]
  },
  {
   "cell_type": "code",
   "execution_count": 8,
   "metadata": {},
   "outputs": [
    {
     "data": {
      "application/vnd.jupyter.widget-view+json": {
       "model_id": "3d2c10bb171c488785ae79ec773495d8",
       "version_major": 2,
       "version_minor": 0
      },
      "text/plain": [
       "HBox(children=(FloatProgress(value=0.0, description='seasons', max=11.0, style=ProgressStyle(description_width…"
      ]
     },
     "metadata": {},
     "output_type": "display_data"
    },
    {
     "data": {
      "application/vnd.jupyter.widget-view+json": {
       "model_id": "",
       "version_major": 2,
       "version_minor": 0
      },
      "text/plain": [
       "HBox(children=(FloatProgress(value=0.0, description='matches', max=60.0, style=ProgressStyle(description_width…"
      ]
     },
     "metadata": {},
     "output_type": "display_data"
    },
    {
     "data": {
      "application/vnd.jupyter.widget-view+json": {
       "model_id": "",
       "version_major": 2,
       "version_minor": 0
      },
      "text/plain": [
       "HBox(children=(FloatProgress(value=0.0, description='matches', max=74.0, style=ProgressStyle(description_width…"
      ]
     },
     "metadata": {},
     "output_type": "display_data"
    },
    {
     "data": {
      "application/vnd.jupyter.widget-view+json": {
       "model_id": "",
       "version_major": 2,
       "version_minor": 0
      },
      "text/plain": [
       "HBox(children=(FloatProgress(value=0.0, description='matches', max=76.0, style=ProgressStyle(description_width…"
      ]
     },
     "metadata": {},
     "output_type": "display_data"
    },
    {
     "data": {
      "application/vnd.jupyter.widget-view+json": {
       "model_id": "",
       "version_major": 2,
       "version_minor": 0
      },
      "text/plain": [
       "HBox(children=(FloatProgress(value=0.0, description='matches', max=76.0, style=ProgressStyle(description_width…"
      ]
     },
     "metadata": {},
     "output_type": "display_data"
    },
    {
     "data": {
      "application/vnd.jupyter.widget-view+json": {
       "model_id": "",
       "version_major": 2,
       "version_minor": 0
      },
      "text/plain": [
       "HBox(children=(FloatProgress(value=0.0, description='matches', max=60.0, style=ProgressStyle(description_width…"
      ]
     },
     "metadata": {},
     "output_type": "display_data"
    },
    {
     "data": {
      "application/vnd.jupyter.widget-view+json": {
       "model_id": "",
       "version_major": 2,
       "version_minor": 0
      },
      "text/plain": [
       "HBox(children=(FloatProgress(value=0.0, description='matches', max=60.0, style=ProgressStyle(description_width…"
      ]
     },
     "metadata": {},
     "output_type": "display_data"
    },
    {
     "data": {
      "application/vnd.jupyter.widget-view+json": {
       "model_id": "",
       "version_major": 2,
       "version_minor": 0
      },
      "text/plain": [
       "HBox(children=(FloatProgress(value=0.0, description='matches', max=60.0, style=ProgressStyle(description_width…"
      ]
     },
     "metadata": {},
     "output_type": "display_data"
    },
    {
     "data": {
      "application/vnd.jupyter.widget-view+json": {
       "model_id": "",
       "version_major": 2,
       "version_minor": 0
      },
      "text/plain": [
       "HBox(children=(FloatProgress(value=0.0, description='matches', max=60.0, style=ProgressStyle(description_width…"
      ]
     },
     "metadata": {},
     "output_type": "display_data"
    },
    {
     "data": {
      "application/vnd.jupyter.widget-view+json": {
       "model_id": "",
       "version_major": 2,
       "version_minor": 0
      },
      "text/plain": [
       "HBox(children=(FloatProgress(value=0.0, description='matches', max=60.0, style=ProgressStyle(description_width…"
      ]
     },
     "metadata": {},
     "output_type": "display_data"
    },
    {
     "data": {
      "application/vnd.jupyter.widget-view+json": {
       "model_id": "",
       "version_major": 2,
       "version_minor": 0
      },
      "text/plain": [
       "HBox(children=(FloatProgress(value=0.0, description='matches', max=60.0, style=ProgressStyle(description_width…"
      ]
     },
     "metadata": {},
     "output_type": "display_data"
    },
    {
     "data": {
      "application/vnd.jupyter.widget-view+json": {
       "model_id": "",
       "version_major": 2,
       "version_minor": 0
      },
      "text/plain": [
       "HBox(children=(FloatProgress(value=0.0, description='matches', max=7.0, style=ProgressStyle(description_width=…"
      ]
     },
     "metadata": {},
     "output_type": "display_data"
    },
    {
     "name": "stdout",
     "output_type": "stream",
     "text": [
      "\n"
     ]
    }
   ],
   "source": [
    "data_dir = 'Data'\n",
    "seasons = range(2010, 2021)\n",
    "\n",
    "dream11_df = pd.DataFrame()\n",
    "for season in tqdm(seasons, desc='seasons'):\n",
    "    season_dir = os.path.join(data_dir, str(season))\n",
    "    matches = sorted(os.listdir(season_dir))\n",
    "    for match in tqdm(matches, desc='matches', leave=False):\n",
    "        match_dir = os.path.join(season_dir, match)\n",
    "        with open(os.path.join(match_dir, 'meta_data.json'), 'r') as file:\n",
    "            meta_data = json.load(file)\n",
    "        match_dream11_df = pd.read_csv(os.path.join(match_dir, 'dream11_df.csv'))\n",
    "        cols = list(match_dream11_df.columns)\n",
    "        if len(match_dream11_df):\n",
    "            match_dream11_df['season_id'] = season\n",
    "            match_dream11_df['match_id'] = meta_data['match_id']\n",
    "            cols = ['season_id', 'match_id'] + cols\n",
    "            match_dream11_df = match_dream11_df[cols]\n",
    "            dream11_df = pd.concat([dream11_df, match_dream11_df], ignore_index=True)\n",
    "dream11_df.to_csv(os.path.join(data_dir, 'dream11_df.csv'), index=False)"
   ]
  },
  {
   "cell_type": "code",
   "execution_count": null,
   "metadata": {},
   "outputs": [],
   "source": []
  }
 ],
 "metadata": {
  "kernelspec": {
   "display_name": "Python 3",
   "language": "python",
   "name": "python3"
  },
  "language_info": {
   "codemirror_mode": {
    "name": "ipython",
    "version": 3
   },
   "file_extension": ".py",
   "mimetype": "text/x-python",
   "name": "python",
   "nbconvert_exporter": "python",
   "pygments_lexer": "ipython3",
   "version": "3.8.2"
  }
 },
 "nbformat": 4,
 "nbformat_minor": 4
}
